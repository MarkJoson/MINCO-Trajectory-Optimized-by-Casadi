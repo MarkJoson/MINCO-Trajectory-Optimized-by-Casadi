{
 "cells": [
  {
   "cell_type": "code",
   "execution_count": 1,
   "metadata": {},
   "outputs": [],
   "source": [
    "import math\n",
    "import numpy as np\n",
    "from config import *\n",
    "import toolbox as tb\n",
    "from debug_casadi import *\n",
    "from evaluate import create_visualization\n",
    "import scipy.linalg as sl\n",
    "\n",
    "ITER_TIMES = 15\n",
    "DRAWPT_PER_PIECE = 20\n",
    "\n",
    "def constructBetaT(t, rank:int):\n",
    "    ''' 构造特定时间的β(t) '''\n",
    "    beta = np.zeros((NCOFF, 1), dtype=np.float64)\n",
    "    for i in range(rank, NCOFF):\n",
    "        if not isinstance(t, int|float) or t!=0 or i-rank==0:\n",
    "            beta[i,0] = math.factorial(i)/math.factorial(i-rank) * t**(i-rank)\n",
    "    return beta\n",
    "\n",
    "def constructMincoM(pieceT):\n",
    "    mat_m = np.zeros((NCOFF, NCOFF), dtype=np.float64)\n",
    "    for i in range(NCOFF-1):\n",
    "        mat_m[i, :] = constructBetaT(0, i).T\n",
    "\n",
    "    mat_m[-1, :] = constructBetaT(pieceT, 0).T\n",
    "    return mat_m\n",
    "\n",
    "def constructMincoQ(last_coff, tgtPos, pieceT):\n",
    "    mat_r = consturctMatR(pieceT=pieceT)\n",
    "    mat_q = mat_r @ last_coff\n",
    "    mat_q[-1, :] = tgtPos\n",
    "    return mat_q\n",
    "\n",
    "def consturctMatR(pieceT):\n",
    "    mat_r = np.zeros((NCOFF, NCOFF), dtype=np.float64)\n",
    "    for i in range(NCOFF):\n",
    "        mat_r[i, :] = constructBetaT(pieceT, i).T\n",
    "    return mat_r\n",
    "\n",
    "def constructInitialCoff(init_pos):\n",
    "    coff = np.zeros((NCOFF, NDIM), dtype=np.float64)\n",
    "    coff[0,:] = init_pos\n",
    "    return coff\n",
    "    # init_state = ca.SX.sym('init_state', NCOFF, NDIM) # type: ignore\n"
   ]
  },
  {
   "cell_type": "code",
   "execution_count": 2,
   "metadata": {},
   "outputs": [],
   "source": [
    "\n",
    "pieceT = 1\n",
    "\n",
    "mat_m_inv = np.linalg.inv(constructMincoM(pieceT))\n",
    "mat_r = consturctMatR(pieceT=pieceT)\n",
    "mat_s = np.diag([1,1,1,1,1,0])\n",
    "mat_u = np.array([[0,0,0,0,0,1]]).T\n",
    "\n",
    "mat_F = mat_m_inv @ mat_s @ mat_r               # matF是行向量\n",
    "mat_G = (mat_m_inv @ mat_u).reshape(-1,1)       # matG是列向量"
   ]
  },
  {
   "cell_type": "code",
   "execution_count": 8,
   "metadata": {},
   "outputs": [
    {
     "data": {
      "text/plain": [
       "6"
      ]
     },
     "execution_count": 8,
     "metadata": {},
     "output_type": "execute_result"
    }
   ],
   "source": [
    "ccm = np.zeros((6,6))#np.array([mat_G, mat_F@mat_G, mat_F@mat_F@mat_G])\n",
    "ntimes_F_pow = np.identity(6)\n",
    "for i in range(6):\n",
    "    ccm[:,i] = (ntimes_F_pow @ mat_G).reshape(-1)\n",
    "    ntimes_F_pow = mat_F @ ntimes_F_pow\n",
    "# ccm\n",
    "np.linalg.matrix_rank(ccm)"
   ]
  },
  {
   "cell_type": "code",
   "execution_count": 11,
   "metadata": {},
   "outputs": [
    {
     "data": {
      "text/plain": [
       "array([[ -0.9954253 ,  -1.98021064,  -3.91439464,  -7.63946461,\n",
       "        -14.56728764, -26.68011065]])"
      ]
     },
     "execution_count": 11,
     "metadata": {},
     "output_type": "execute_result"
    }
   ],
   "source": [
    "import control\n",
    "\n",
    "def constructBBTint(pieceT, rank):\n",
    "    ''' c^T*(∫β*β^T*dt)*c ==> (2, NCOFF) * (NCOFF, NCOFF) * (NCOFF, 2) '''\n",
    "    bbint = np.zeros((NCOFF, NCOFF))\n",
    "    beta = constructBetaT(pieceT, rank)\n",
    "    for i in range(NCOFF):\n",
    "        for j in range(NCOFF):\n",
    "            if i+j-2*rank < 0: continue\n",
    "            coff = 1 / (i+j-2*rank+1)\n",
    "            bbint[i, j] = coff * beta[i,0] * beta[j,0] * pieceT\n",
    "    return bbint\n",
    "\n",
    "# 定义权重矩阵\n",
    "Q = constructBBTint(pieceT=pieceT, rank=3)\n",
    "R = np.array([[1]])     # 控制权重矩阵\n",
    "\n",
    "K, S, E = control.dlqr(mat_F, mat_G, Q, R)\n",
    "\n"
   ]
  }
 ],
 "metadata": {
  "kernelspec": {
   "display_name": "torch-cuda121",
   "language": "python",
   "name": "python3"
  },
  "language_info": {
   "codemirror_mode": {
    "name": "ipython",
    "version": 3
   },
   "file_extension": ".py",
   "mimetype": "text/x-python",
   "name": "python",
   "nbconvert_exporter": "python",
   "pygments_lexer": "ipython3",
   "version": "3.10.13"
  }
 },
 "nbformat": 4,
 "nbformat_minor": 2
}
