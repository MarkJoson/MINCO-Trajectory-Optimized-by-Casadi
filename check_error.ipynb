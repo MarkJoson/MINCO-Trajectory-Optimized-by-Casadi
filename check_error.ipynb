{
 "cells": [
  {
   "cell_type": "code",
   "execution_count": 3,
   "metadata": {},
   "outputs": [],
   "source": [
    "import numpy as np\n",
    "coffs_origin = np.array(\n",
    "    [\n",
    " [ 4.9999999999997119e-01, -4.8046874995011077e-02],\n",
    " [ 4.5731707321813744e+00,  1.0937499999993866e-01],\n",
    " [-6.0286013643731270e-12,  1.3719512196545072e+00],\n",
    " [-7.2546829000686714e+01, -3.7180249858985674e+00],\n",
    " [ 3.1220077216671466e-10, -5.4410121750390061e+00],\n",
    " [ 5.1788337191416713e+02,  2.6541522807843705e+01],\n",
    "    ]\n",
    ")\n",
    "t = (0.632455532**2 + 0.01) / 2"
   ]
  },
  {
   "cell_type": "markdown",
   "metadata": {},
   "source": [
    "按照原系数计算终点的位置：\n",
    "$$\n",
    "c0*1+c1*t+c2*t^2+c3*t^3+c4*t^4+c5*t^5\n",
    "$$"
   ]
  },
  {
   "cell_type": "code",
   "execution_count": 5,
   "metadata": {},
   "outputs": [
    {
     "data": {
      "text/plain": [
       "0.999999999999927"
      ]
     },
     "execution_count": 5,
     "metadata": {},
     "output_type": "execute_result"
    }
   ],
   "source": [
    "c = coffs_origin[:,0]\n",
    "pT = c[0] + c[1]*t + c[2]*t**2 + c[3]*t**3 + c[4]*t**4 + c[5]*t**5\n",
    "pT"
   ]
  },
  {
   "cell_type": "code",
   "execution_count": null,
   "metadata": {},
   "outputs": [],
   "source": [
    "new_coff = [[ 5.00000000e-01 -4.80468750e-02]\n",
    " [ 4.57317073e+00  1.09375000e-01]\n",
    " [-6.01553643e-12  1.37195122e+00]\n",
    " [-7.25468290e+01 -3.71802499e+00]\n",
    " [ 3.12301942e-10 -5.44101218e+00]\n",
    " [-8.63138953e+02 -1.06166091e+02]]\n"
   ]
  }
 ],
 "metadata": {
  "kernelspec": {
   "display_name": "torch-cuda121",
   "language": "python",
   "name": "python3"
  },
  "language_info": {
   "codemirror_mode": {
    "name": "ipython",
    "version": 3
   },
   "file_extension": ".py",
   "mimetype": "text/x-python",
   "name": "python",
   "nbconvert_exporter": "python",
   "pygments_lexer": "ipython3",
   "version": "3.10.13"
  }
 },
 "nbformat": 4,
 "nbformat_minor": 2
}
